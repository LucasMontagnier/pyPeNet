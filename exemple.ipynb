{
 "cells": [
  {
   "cell_type": "markdown",
   "metadata": {},
   "source": [
    "# Exemple d'utilisation de pypenet\n",
    "\n",
    "Ce petit notebook permet de tester l'exécution d'une réseau de Petri. "
   ]
  },
  {
   "cell_type": "markdown",
   "metadata": {},
   "source": [
    "Tout d'abord il faut récupérer la bibliothèque."
   ]
  },
  {
   "cell_type": "code",
   "execution_count": 1,
   "metadata": {},
   "outputs": [],
   "source": [
    "from pyPeNet import *"
   ]
  },
  {
   "cell_type": "markdown",
   "metadata": {},
   "source": [
    "## Définition d'un RdP"
   ]
  },
  {
   "cell_type": "markdown",
   "metadata": {},
   "source": [
    "Ensuite construit le réseau de Petri"
   ]
  },
  {
   "cell_type": "code",
   "execution_count": 2,
   "metadata": {},
   "outputs": [],
   "source": [
    "rdp = PeNet_I()\n",
    "rdp.load((\"p1\", \"p2\"), \n",
    "         (\"t1\", \"t2\", \"t3\"), \n",
    "         ((\"p1\", \"t1\"), (\"t1\", \"p2\"),(\"p2\", \"t2\"), (\"t2\", \"p1\"), (\"p1\", \"t2\"), (\"t3\", \"p2\")), \n",
    "         (1, 1, 1, 1, 0, 1),  \n",
    "         (1, 1))"
   ]
  },
  {
   "cell_type": "markdown",
   "metadata": {},
   "source": [
    "puis on imprime le marquage initial :"
   ]
  },
  {
   "cell_type": "code",
   "execution_count": 3,
   "metadata": {},
   "outputs": [
    {
     "name": "stdout",
     "output_type": "stream",
     "text": [
      "[1 1]\n"
     ]
    }
   ],
   "source": [
    "print(rdp.Mi)"
   ]
  },
  {
   "cell_type": "markdown",
   "metadata": {},
   "source": [
    "La matrice d'incidence entrante et la matrice d'incidence sortante"
   ]
  },
  {
   "cell_type": "code",
   "execution_count": 4,
   "metadata": {},
   "outputs": [
    {
     "name": "stdout",
     "output_type": "stream",
     "text": [
      "[[1 0 0]\n",
      " [0 1 0]]\n",
      "[[0 1 0]\n",
      " [1 0 1]]\n"
     ]
    }
   ],
   "source": [
    "print(rdp.Ue)\n",
    "print(rdp.Us)"
   ]
  },
  {
   "cell_type": "markdown",
   "metadata": {},
   "source": [
    "La matrice d'incidence :"
   ]
  },
  {
   "cell_type": "code",
   "execution_count": 5,
   "metadata": {},
   "outputs": [
    {
     "name": "stdout",
     "output_type": "stream",
     "text": [
      "[[-1  1  0]\n",
      " [ 1 -1  1]]\n"
     ]
    }
   ],
   "source": [
    "print(rdp.U)"
   ]
  },
  {
   "cell_type": "markdown",
   "metadata": {},
   "source": [
    "La matrice d'arcs inhibiteurs"
   ]
  },
  {
   "cell_type": "code",
   "execution_count": 6,
   "metadata": {},
   "outputs": [
    {
     "name": "stdout",
     "output_type": "stream",
     "text": [
      "[[0 1 0]\n",
      " [0 0 0]]\n"
     ]
    }
   ],
   "source": [
    "print(rdp.I)"
   ]
  },
  {
   "cell_type": "markdown",
   "metadata": {},
   "source": [
    "## Exécution d'un RdP\n",
    "On exécute le RdP 15 fois."
   ]
  },
  {
   "cell_type": "code",
   "execution_count": 7,
   "metadata": {},
   "outputs": [
    {
     "name": "stdout",
     "output_type": "stream",
     "text": [
      "[1 2]\n",
      "[1 3]\n",
      "[1 4]\n",
      "[0 5]\n",
      "[0 6]\n",
      "[1 5]\n",
      "[1 6]\n",
      "[0 7]\n",
      "[1 6]\n",
      "[1 7]\n",
      "[1 8]\n",
      "[1 9]\n",
      "[ 0 10]\n",
      "[1 9]\n",
      "[ 1 10]\n",
      "Comptage:[3 3 9]\n"
     ]
    }
   ],
   "source": [
    "for i in range(15):\n",
    "    rdp.next()\n",
    "    print(rdp.Mi)\n",
    "print(\"Comptage:\" + str(rdp.v_count))"
   ]
  },
  {
   "cell_type": "code",
   "execution_count": null,
   "metadata": {},
   "outputs": [],
   "source": []
  }
 ],
 "metadata": {
  "celltoolbar": "Format de la Cellule Texte Brut",
  "kernelspec": {
   "display_name": "Python 3",
   "language": "python",
   "name": "python3"
  },
  "language_info": {
   "codemirror_mode": {
    "name": "ipython",
    "version": 3
   },
   "file_extension": ".py",
   "mimetype": "text/x-python",
   "name": "python",
   "nbconvert_exporter": "python",
   "pygments_lexer": "ipython3",
   "version": "3.6.10"
  }
 },
 "nbformat": 4,
 "nbformat_minor": 4
}
