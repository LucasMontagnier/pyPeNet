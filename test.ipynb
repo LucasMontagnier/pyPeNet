{
 "cells": [
  {
   "cell_type": "code",
   "execution_count": 2,
   "metadata": {},
   "outputs": [
    {
     "name": "stdout",
     "output_type": "stream",
     "text": [
      "[1 1]\n",
      "[[1 0 0]\n",
      " [0 1 0]]\n",
      "[[0 1 0]\n",
      " [1 0 1]]\n",
      "[[-1  1  0]\n",
      " [ 1 -1  1]]\n",
      "[1 2]\n",
      "[0 3]\n",
      "[0 4]\n",
      "[1 3]\n",
      "[0 4]\n",
      "[1 3]\n",
      "[0 4]\n",
      "[0 5]\n",
      "[0 6]\n",
      "[0 7]\n",
      "[1 6]\n",
      "[0 7]\n",
      "[0 8]\n",
      "[1 7]\n",
      "[1 8]\n",
      "Comptage:[4 4 7]\n",
      "[[0 1 0]\n",
      " [0 0 0]]\n"
     ]
    }
   ],
   "source": [
    "from pyPeNet import *\n",
    "rdp2 = PeNet_I()\n",
    "rdp2.load((\"p1\", \"p2\"), (\"t1\", \"t2\", \"t3\"), ((\"p1\", \"t1\"), (\"t1\", \"p2\"),\n",
    "                                             (\"p2\", \"t2\"), (\"t2\", \"p1\"), (\"p1\", \"t2\"), (\"t3\", \"p2\")), (1, 1, 1, 1, 0, 1),  (1, 1))\n",
    "\n",
    "print(rdp2.Mi)\n",
    "print(rdp2.Ue)\n",
    "print(rdp2.Us)\n",
    "print(rdp2.U)\n",
    "for i in range(15):\n",
    "    rdp2.next()\n",
    "    print(rdp2.Mi)\n",
    "print(\"Comptage:\" + str(rdp2.v_count))\n",
    "print(rdp2.I)"
   ]
  },
  {
   "cell_type": "code",
   "execution_count": null,
   "metadata": {},
   "outputs": [],
   "source": []
  }
 ],
 "metadata": {
  "kernelspec": {
   "display_name": "Python 3",
   "language": "python",
   "name": "python3"
  },
  "language_info": {
   "codemirror_mode": {
    "name": "ipython",
    "version": 3
   },
   "file_extension": ".py",
   "mimetype": "text/x-python",
   "name": "python",
   "nbconvert_exporter": "python",
   "pygments_lexer": "ipython3",
   "version": "3.7.6"
  }
 },
 "nbformat": 4,
 "nbformat_minor": 4
}
